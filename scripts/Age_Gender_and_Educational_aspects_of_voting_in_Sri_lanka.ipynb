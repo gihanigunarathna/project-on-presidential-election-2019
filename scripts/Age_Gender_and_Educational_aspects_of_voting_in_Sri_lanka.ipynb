{
 "cells": [
  {
   "cell_type": "code",
   "execution_count": 16,
   "metadata": {},
   "outputs": [],
   "source": [
    "from pandas import read_csv\n",
    "import numpy\n",
    "\n",
    "dataset = pd.read_csv('data.csv', header=None, skiprows=[0,], engine='python', names=['time' , 'vote' , 'why' , 'president' , 'issue', 'candidate', 'why_can' , 'party' , 'age' , 'gender' ,'religion' , 'edu' , 'occu' , 'district' , 'region'], usecols=['time' , 'vote' , 'why' , 'president' , 'issue', 'candidate', 'why_can' , 'party' , 'age' , 'gender' ,'religion' , 'edu' , 'occu' , 'district' , 'region'])\n"
   ]
  },
  {
   "cell_type": "code",
   "execution_count": 17,
   "metadata": {},
   "outputs": [
    {
     "name": "stdout",
     "output_type": "stream",
     "text": [
      "(133, 15)\n",
      "                                   time vote                      why  \\\n",
      "count                               133  132                        5   \n",
      "unique                              133    2                        5   \n",
      "top     2019/10/30 11:25:53 AM GMT+5:30  yes  Due to a foreign travel   \n",
      "freq                                  1  125                        1   \n",
      "\n",
      "                     president                   issue    candidate  \\\n",
      "count                      132                     131          132   \n",
      "unique                       7                       8            3   \n",
      "top     Mr Gotabaya Rajapaksha  Economical development  Problematic   \n",
      "freq                        78                      66           89   \n",
      "\n",
      "                           why_can party    age gender  religion  \\\n",
      "count                           26   132    132    132       132   \n",
      "unique                          26     3      4      2         5   \n",
      "top     Shows how unstable we are     No  30-45   Male  Buddhist   \n",
      "freq                             1    68     49     77       120   \n",
      "\n",
      "                          edu      occu district       region  \n",
      "count                     132       115      123          120  \n",
      "unique                      5        62       28           59  \n",
      "top     degree (Bsc,Msc, Phd)  Lecturer    Kandy  senkadagala  \n",
      "freq                       64        14       49           16  \n",
      "                                time vote                      why  \\\n",
      "0     2019/10/28 9:51:30 AM GMT+5:30  yes                      NaN   \n",
      "1    2019/10/28 10:28:35 AM GMT+5:30  yes                      NaN   \n",
      "2    2019/10/28 10:33:41 AM GMT+5:30  yes                      NaN   \n",
      "3    2019/10/28 10:41:19 AM GMT+5:30  yes                      NaN   \n",
      "4    2019/10/28 10:42:30 AM GMT+5:30  yes                      NaN   \n",
      "5    2019/10/28 11:14:09 AM GMT+5:30  yes                      NaN   \n",
      "6    2019/10/28 12:22:52 PM GMT+5:30  yes                      NaN   \n",
      "7     2019/10/28 3:53:30 PM GMT+5:30  yes                      NaN   \n",
      "8     2019/10/28 5:09:07 PM GMT+5:30  yes                      NaN   \n",
      "9     2019/10/28 5:38:39 PM GMT+5:30   no                      NaN   \n",
      "10    2019/10/28 6:03:35 PM GMT+5:30  yes                      NaN   \n",
      "11    2019/10/28 6:08:22 PM GMT+5:30  yes                      NaN   \n",
      "12    2019/10/28 6:14:49 PM GMT+5:30  yes                      NaN   \n",
      "13    2019/10/28 7:09:42 PM GMT+5:30   no  Due to a foreign travel   \n",
      "14    2019/10/28 9:35:48 PM GMT+5:30  yes                      NaN   \n",
      "15    2019/10/29 8:54:10 AM GMT+5:30  yes                      NaN   \n",
      "16   2019/10/29 10:14:10 AM GMT+5:30  yes                      NaN   \n",
      "17   2019/10/29 11:18:51 AM GMT+5:30  yes                      NaN   \n",
      "18   2019/10/29 12:18:00 PM GMT+5:30  yes                      NaN   \n",
      "19    2019/10/29 3:58:46 PM GMT+5:30  yes                      NaN   \n",
      "20    2019/10/29 4:01:45 PM GMT+5:30   no                     Why?   \n",
      "21    2019/10/29 4:02:56 PM GMT+5:30  yes                      NaN   \n",
      "22    2019/10/29 4:04:09 PM GMT+5:30  NaN                      NaN   \n",
      "23    2019/10/29 4:07:37 PM GMT+5:30  yes                      NaN   \n",
      "24    2019/10/29 4:07:46 PM GMT+5:30  yes                      NaN   \n",
      "25    2019/10/29 4:13:29 PM GMT+5:30  yes                      NaN   \n",
      "26    2019/10/29 5:31:58 PM GMT+5:30  yes                      NaN   \n",
      "27    2019/10/29 6:18:00 PM GMT+5:30   no                      NaN   \n",
      "28    2019/10/29 6:33:53 PM GMT+5:30  yes                      NaN   \n",
      "29    2019/10/29 6:41:59 PM GMT+5:30   no             Going abroad   \n",
      "..                               ...  ...                      ...   \n",
      "103   2019/11/04 5:38:18 AM GMT+5:30  yes                      NaN   \n",
      "104   2019/11/04 5:39:18 AM GMT+5:30  yes                      NaN   \n",
      "105   2019/11/04 5:40:12 AM GMT+5:30  yes                      NaN   \n",
      "106   2019/11/04 5:41:07 AM GMT+5:30  yes                      NaN   \n",
      "107   2019/11/04 5:42:16 AM GMT+5:30  yes                      NaN   \n",
      "108   2019/11/04 5:43:21 AM GMT+5:30  yes                      NaN   \n",
      "109   2019/11/04 5:44:25 AM GMT+5:30  yes                      NaN   \n",
      "110   2019/11/04 5:45:45 AM GMT+5:30  yes                      NaN   \n",
      "111   2019/11/04 5:47:02 AM GMT+5:30  yes                      NaN   \n",
      "112   2019/11/04 5:47:58 AM GMT+5:30  yes                      NaN   \n",
      "113   2019/11/04 5:49:13 AM GMT+5:30  yes                      NaN   \n",
      "114   2019/11/04 5:50:35 AM GMT+5:30  yes                      NaN   \n",
      "115   2019/11/04 5:51:41 AM GMT+5:30  yes                      NaN   \n",
      "116   2019/11/04 5:52:50 AM GMT+5:30  yes                      NaN   \n",
      "117   2019/11/04 5:53:59 AM GMT+5:30  yes                      NaN   \n",
      "118   2019/11/04 5:54:56 AM GMT+5:30  yes                      NaN   \n",
      "119   2019/11/04 5:56:32 AM GMT+5:30  yes                      NaN   \n",
      "120   2019/11/04 5:57:17 AM GMT+5:30  yes                      NaN   \n",
      "121   2019/11/04 5:58:18 AM GMT+5:30  yes                      NaN   \n",
      "122   2019/11/04 5:59:13 AM GMT+5:30  yes                      NaN   \n",
      "123   2019/11/04 6:00:21 AM GMT+5:30  yes                      NaN   \n",
      "124   2019/11/04 6:01:19 AM GMT+5:30  yes                      NaN   \n",
      "125   2019/11/04 6:02:19 AM GMT+5:30  yes                      NaN   \n",
      "126   2019/11/04 6:03:26 AM GMT+5:30  yes                      NaN   \n",
      "127   2019/11/04 6:04:28 AM GMT+5:30  yes                      NaN   \n",
      "128   2019/11/04 6:05:16 AM GMT+5:30  yes                      NaN   \n",
      "129   2019/11/04 6:06:30 AM GMT+5:30  yes                      NaN   \n",
      "130   2019/11/04 6:07:14 AM GMT+5:30  yes                      NaN   \n",
      "131   2019/11/04 6:08:34 AM GMT+5:30  yes                      NaN   \n",
      "132   2019/11/04 6:09:23 AM GMT+5:30  yes                      NaN   \n",
      "\n",
      "                     president                   issue    candidate  \\\n",
      "0       Mr Gotabaya Rajapaksha           Ethnic issues  Problematic   \n",
      "1       Mr Gotabaya Rajapaksha  Economical development  Problematic   \n",
      "2       Mr Gotabaya Rajapaksha              Corruption  Problematic   \n",
      "3       Mr Gotabaya Rajapaksha  Economical development  Problematic   \n",
      "4       Mr Gotabaya Rajapaksha  Economical development  Problematic   \n",
      "5       Mr Gotabaya Rajapaksha              Corruption  Problematic   \n",
      "6       Mr Gotabaya Rajapaksha                     NaN      Neutral   \n",
      "7       Mr Gotabaya Rajapaksha  Economical development  Problematic   \n",
      "8       Mr Gotabaya Rajapaksha  Economical development  Problematic   \n",
      "9       Mr Gotabaya Rajapaksha     Religious conflicts  Problematic   \n",
      "10      Mr Gotabaya Rajapaksha  Economical development  Problematic   \n",
      "11      Mr Gotabaya Rajapaksha  Economical development  Problematic   \n",
      "12      Mr Gotabaya Rajapaksha  Economical development  Problematic   \n",
      "13      Mr Gotabaya Rajapaksha           Ethnic issues  Problematic   \n",
      "14      Mr Gotabaya Rajapaksha  Economical development  Problematic   \n",
      "15        Mr. Sajith Premadasa  Economical development      Neutral   \n",
      "16      Mr Gotabaya Rajapaksha       Educational issue      Neutral   \n",
      "17            Mr. Anura Kumara              Corruption  Problematic   \n",
      "18      Mr Gotabaya Rajapaksha           Ethnic issues  Problematic   \n",
      "19      Mr Gotabaya Rajapaksha  Economical development  Problematic   \n",
      "20            Mr. Anura Kumara              Corruption  Problematic   \n",
      "21            Mr. Anura Kumara              Corruption      Neutral   \n",
      "22                         NaN                     NaN          NaN   \n",
      "23            Mr. Anura Kumara  Economical development  Problematic   \n",
      "24       do not like to reveal       Educational issue         Good   \n",
      "25            Mr. Anura Kumara  Economical development  Problematic   \n",
      "26        Mr. Sajith Premadasa  Economical development  Problematic   \n",
      "27                       other  Economical development         Good   \n",
      "28        Mr. Sajith Premadasa              Corruption      Neutral   \n",
      "29                 do not know              Corruption  Problematic   \n",
      "..                         ...                     ...          ...   \n",
      "103     Mr Gotabaya Rajapaksha  Economical development  Problematic   \n",
      "104     Mr Gotabaya Rajapaksha               Inflation  Problematic   \n",
      "105     Mr Gotabaya Rajapaksha           Ethnic issues         Good   \n",
      "106      do not like to reveal           Ethnic issues         Good   \n",
      "107     Mr Gotabaya Rajapaksha           Ethnic issues      Neutral   \n",
      "108                do not know     Religious conflicts  Problematic   \n",
      "109     Mr Gotabaya Rajapaksha           Ethnic issues      Neutral   \n",
      "110       Mr. Sajith Premadasa  Economical development         Good   \n",
      "111     Mr Gotabaya Rajapaksha  Economical development  Problematic   \n",
      "112     Mr Gotabaya Rajapaksha           Ethnic issues  Problematic   \n",
      "113       Mr. Sajith Premadasa           Ethnic issues         Good   \n",
      "114     Mr Gotabaya Rajapaksha  Economical development  Problematic   \n",
      "115     Mr Gotabaya Rajapaksha  Economical development         Good   \n",
      "116     Mr Gotabaya Rajapaksha  Economical development         Good   \n",
      "117     Mr Gotabaya Rajapaksha  Economical development  Problematic   \n",
      "118     Mr Gotabaya Rajapaksha  Economical development         Good   \n",
      "119     Mr Gotabaya Rajapaksha  Economical development         Good   \n",
      "120     Mr Gotabaya Rajapaksha           Ethnic issues  Problematic   \n",
      "121     Mr Gotabaya Rajapaksha  Economical development         Good   \n",
      "122     Mr Gotabaya Rajapaksha  Economical development         Good   \n",
      "123     Mr Gotabaya Rajapaksha  Economical development         Good   \n",
      "124      do not like to reveal  Economical development  Problematic   \n",
      "125  General Mahesh Senanayake              Corruption  Problematic   \n",
      "126      do not like to reveal              Corruption  Problematic   \n",
      "127     Mr Gotabaya Rajapaksha  Economical development      Neutral   \n",
      "128     Mr Gotabaya Rajapaksha       Educational issue  Problematic   \n",
      "129                do not know           Ethnic issues  Problematic   \n",
      "130  General Mahesh Senanayake  Economical development  Problematic   \n",
      "131      do not like to reveal           Ethnic issues  Problematic   \n",
      "132       Mr. Sajith Premadasa              Corruption  Problematic   \n",
      "\n",
      "                                               why_can  party       age  \\\n",
      "0                                                  NaN    Yes     30-45   \n",
      "1                                                  NaN     No     18-30   \n",
      "2                                                  NaN     No     18-30   \n",
      "3                                                  NaN     No     45-60   \n",
      "4                                                  NaN     No  above 60   \n",
      "5                                                  NaN    Yes     30-45   \n",
      "6                                                  NaN    Yes     30-45   \n",
      "7                                                  NaN    Yes     30-45   \n",
      "8                                                  NaN    Yes     45-60   \n",
      "9                              Too many idiotic voices    Yes     30-45   \n",
      "10                                                 NaN    Yes  above 60   \n",
      "11                                                 NaN     No  above 60   \n",
      "12                                                 NaN    Yes     30-45   \n",
      "13                               It isa waste of money    Yes     30-45   \n",
      "14                                                 NaN     No     30-45   \n",
      "15                                                 NaN     No     45-60   \n",
      "16                                                 NaN     No     18-30   \n",
      "17                          Shows how unstable we are     Yes     45-60   \n",
      "18                                                 NaN  Maybe     30-45   \n",
      "19                                                 NaN    Yes  above 60   \n",
      "20                              burden to the country     Yes     30-45   \n",
      "21                                                 NaN  Maybe     18-30   \n",
      "22                                                 NaN    NaN       NaN   \n",
      "23         The post of president has become a joke now    Yes     30-45   \n",
      "24   Thats indicate any one whos willing to lead co...  Maybe     30-45   \n",
      "25                                                 NaN    Yes     30-45   \n",
      "26                                                 NaN     No     30-45   \n",
      "27                                                 NaN    Yes     18-30   \n",
      "28                                                 NaN    Yes  above 60   \n",
      "29                                                 NaN     No     30-45   \n",
      "..                                                 ...    ...       ...   \n",
      "103                                                NaN     No     45-60   \n",
      "104                                                NaN     No     45-60   \n",
      "105                                                NaN     No     18-30   \n",
      "106                                                NaN     No     30-45   \n",
      "107                                                NaN     No     45-60   \n",
      "108                                                NaN    Yes     45-60   \n",
      "109                                                NaN     No     45-60   \n",
      "110                                                NaN  Maybe     45-60   \n",
      "111                                                NaN     No     18-30   \n",
      "112                                                NaN    Yes     30-45   \n",
      "113                                                NaN     No     30-45   \n",
      "114                                                NaN     No     18-30   \n",
      "115                                                NaN     No     18-30   \n",
      "116                                                NaN     No     30-45   \n",
      "117                                                NaN     No     18-30   \n",
      "118                                                NaN     No     18-30   \n",
      "119                                                NaN     No     18-30   \n",
      "120                                                NaN     No     30-45   \n",
      "121                                                NaN     No     18-30   \n",
      "122                                                NaN     No     18-30   \n",
      "123                                                NaN     No     18-30   \n",
      "124                                                NaN  Maybe     18-30   \n",
      "125                                                NaN    Yes     18-30   \n",
      "126                                                NaN    Yes     45-60   \n",
      "127                                                NaN    Yes     30-45   \n",
      "128                                                NaN     No     18-30   \n",
      "129                    people cannot vote for everyone  Maybe  above 60   \n",
      "130                                                NaN    Yes     18-30   \n",
      "131                                                NaN     No     18-30   \n",
      "132                                                NaN    Yes  above 60   \n",
      "\n",
      "     gender   religion                               edu  \\\n",
      "0      Male   Buddhist             degree (Bsc,Msc, Phd)   \n",
      "1    Female   Buddhist                         up to A/L   \n",
      "2    Female   Buddhist                         up to A/L   \n",
      "3      Male   Buddhist                         up to A/L   \n",
      "4    Female   Buddhist                         up to A/L   \n",
      "5    Female   Buddhist             degree (Bsc,Msc, Phd)   \n",
      "6    Female   Buddhist             degree (Bsc,Msc, Phd)   \n",
      "7      Male   Buddhist             degree (Bsc,Msc, Phd)   \n",
      "8      Male   Buddhist             degree (Bsc,Msc, Phd)   \n",
      "9      Male   Buddhist             degree (Bsc,Msc, Phd)   \n",
      "10     Male   Buddhist                         up to A/L   \n",
      "11   Female   Buddhist                         up to O/L   \n",
      "12   Female   Buddhist             degree (Bsc,Msc, Phd)   \n",
      "13   Female   Buddhist             degree (Bsc,Msc, Phd)   \n",
      "14     Male   Buddhist             degree (Bsc,Msc, Phd)   \n",
      "15     Male  Christian             degree (Bsc,Msc, Phd)   \n",
      "16   Female   Buddhist                         up to A/L   \n",
      "17     Male   Buddhist             degree (Bsc,Msc, Phd)   \n",
      "18   Female   Buddhist             degree (Bsc,Msc, Phd)   \n",
      "19   Female   Buddhist             degree (Bsc,Msc, Phd)   \n",
      "20     Male   Buddhist             degree (Bsc,Msc, Phd)   \n",
      "21     Male      Islam                         up to A/L   \n",
      "22      NaN        NaN                               NaN   \n",
      "23   Female   Buddhist             degree (Bsc,Msc, Phd)   \n",
      "24     Male   Buddhist             degree (Bsc,Msc, Phd)   \n",
      "25   Female   Buddhist             degree (Bsc,Msc, Phd)   \n",
      "26     Male   Buddhist             degree (Bsc,Msc, Phd)   \n",
      "27   Female   Buddhist             degree (Bsc,Msc, Phd)   \n",
      "28     Male  Christian             degree (Bsc,Msc, Phd)   \n",
      "29     Male   Buddhist             degree (Bsc,Msc, Phd)   \n",
      "..      ...        ...                               ...   \n",
      "103    Male   Buddhist                         up to O/L   \n",
      "104  Female   Buddhist                         up to A/L   \n",
      "105  Female   Buddhist                         up to A/L   \n",
      "106  Female   Buddhist                         up to A/L   \n",
      "107  Female   Buddhist                         up to A/L   \n",
      "108    Male   Buddhist             degree (Bsc,Msc, Phd)   \n",
      "109    Male   Buddhist             degree (Bsc,Msc, Phd)   \n",
      "110    Male      Hindu                         up to A/L   \n",
      "111  Female   Buddhist                         up to A/L   \n",
      "112    Male   Buddhist             degree (Bsc,Msc, Phd)   \n",
      "113    Male   Buddhist                         up to O/L   \n",
      "114  Female   Buddhist                         up to A/L   \n",
      "115    Male   Buddhist  6 to 11. but did not sit for O/L   \n",
      "116    Male   Buddhist                         up to O/L   \n",
      "117    Male   Buddhist                         up to A/L   \n",
      "118    Male   Buddhist                         up to O/L   \n",
      "119    Male   Buddhist                         up to O/L   \n",
      "120    Male   Buddhist                         up to A/L   \n",
      "121  Female   Buddhist                         up to O/L   \n",
      "122  Female   Buddhist                         up to A/L   \n",
      "123  Female   Buddhist                         up to A/L   \n",
      "124  Female   Buddhist                         up to A/L   \n",
      "125    Male   Buddhist                         up to A/L   \n",
      "126    Male   Buddhist                         up to A/L   \n",
      "127  Female   Buddhist             degree (Bsc,Msc, Phd)   \n",
      "128    Male   Buddhist                         up to A/L   \n",
      "129  Female   Buddhist                         up to A/L   \n",
      "130  Female   Buddhist             degree (Bsc,Msc, Phd)   \n",
      "131  Female   Buddhist             degree (Bsc,Msc, Phd)   \n",
      "132    Male   Buddhist                         up to A/L   \n",
      "\n",
      "                                  occu      district           region  \n",
      "0                          Vet surgeon         Kandy        Udunuwara  \n",
      "1                                  NaN         kandy          gampola  \n",
      "2                                  NaN         Kandy           Kandy   \n",
      "3                          Contractor          Kandy            Kandy  \n",
      "4                                  NaN         Kandy            Kandy  \n",
      "5                             lecturer         kandy            kandy  \n",
      "6                             Lecturer         Kandy            Kandy  \n",
      "7                                  NaN           NaN              NaN  \n",
      "8                   University Teacher       Colombo          Kesbewa  \n",
      "9                                   Mo         Kandy           Kandy   \n",
      "10                Medical practitioner         Kandy        Udunuwara  \n",
      "11                           Pentioner         Kandy        Udunuwara  \n",
      "12        Medical practitioner M B B S         Kandy            Kandy  \n",
      "13                            Lecturer    Rathnapura            Kandy  \n",
      "14                           Academic          Kandy        Teldeniya  \n",
      "15                           Professor         Kandy              NaN  \n",
      "16                                 NaN           NaN              NaN  \n",
      "17                 University teacher          Kandy     Senkadagala   \n",
      "18                    Senior Executive        Kandy            Kandy   \n",
      "19                           Professor         Kandy            Kandy  \n",
      "20                                 NaN           NaN              NaN  \n",
      "21                             Teacher  Anuradhapura     Anuradhapura  \n",
      "22                                 NaN           NaN              NaN  \n",
      "23                                 NaN       Gampaha          Gampaha  \n",
      "24                            Lecturer       Badulla          Badulla  \n",
      "25                                 NaN           NaN              NaN  \n",
      "26                    Senior lecturer         Galle            Galle   \n",
      "27                            Lecturer        Matara           Matara  \n",
      "28                     Senior lecturer         Kandy          Gatambe  \n",
      "29                            Lecturer           NaN              NaN  \n",
      "..                                 ...           ...              ...  \n",
      "103                           Business         Kandy       Udu nuwara  \n",
      "104                          Insurance         Kandy       Udu nuwara  \n",
      "105                           Business         Kandy            Kandy  \n",
      "106                           Business         Kandy            Kandy  \n",
      "107                           Business         Kandy            Kandy  \n",
      "108                           Business         Kandy            Kandy  \n",
      "109                           Business         Kandy            Kandy  \n",
      "110                           business         Kandy            Kandy  \n",
      "111                     private sector         kandy       udu nuwara  \n",
      "112                           business         kandy            kandy  \n",
      "113                           business         kandy       udu nuwara  \n",
      "114  private sector Accounts secretary         Kandy       udu nuwara  \n",
      "115                             Driver         Kandy       Udu nuwara  \n",
      "116                             Driver         Kandy       Udu nuwara  \n",
      "117                                NaN         kandy  gangawatakorale  \n",
      "118                                NaN         Kandy     Nawalapitiya  \n",
      "119                                NaN         kandy       udu nuwara  \n",
      "120                                NaN           NaN              NaN  \n",
      "121               Assistant Accountant         Kandy       udu nuwara  \n",
      "122                         Accountant         Kandy       Udu nuwara  \n",
      "123                         Accountant         Kandy       Udu nuwara  \n",
      "124                                 no         kandy      senkadagala  \n",
      "125                              Baker         Kandy      senkadagala  \n",
      "126                            Manager         Kandy      Senkadagala  \n",
      "127                   Accounts manager         kandy      senkadagala  \n",
      "128                                 no         kandy      senkadagala  \n",
      "129                                 no         kandy      senkadagala  \n",
      "130                               Bank         kandy      senkadagala  \n",
      "131                                 no         kandy      senkadagala  \n",
      "132                            retired         Kandy      senkadagala  \n",
      "\n",
      "[133 rows x 15 columns]\n"
     ]
    }
   ],
   "source": [
    "print(dataset.shape)\n",
    "print(dataset.describe())\n",
    "print(dataset)"
   ]
  },
  {
   "cell_type": "code",
   "execution_count": 19,
   "metadata": {},
   "outputs": [
    {
     "name": "stdout",
     "output_type": "stream",
     "text": [
      "                                time vote                      why  \\\n",
      "0     2019/10/28 9:51:30 AM GMT+5:30  yes                      NaN   \n",
      "1    2019/10/28 10:28:35 AM GMT+5:30  yes                      NaN   \n",
      "2    2019/10/28 10:33:41 AM GMT+5:30  yes                      NaN   \n",
      "3    2019/10/28 10:41:19 AM GMT+5:30  yes                      NaN   \n",
      "4    2019/10/28 10:42:30 AM GMT+5:30  yes                      NaN   \n",
      "5    2019/10/28 11:14:09 AM GMT+5:30  yes                      NaN   \n",
      "6    2019/10/28 12:22:52 PM GMT+5:30  yes                      NaN   \n",
      "7     2019/10/28 3:53:30 PM GMT+5:30  yes                      NaN   \n",
      "8     2019/10/28 5:09:07 PM GMT+5:30  yes                      NaN   \n",
      "9     2019/10/28 5:38:39 PM GMT+5:30   no                      NaN   \n",
      "10    2019/10/28 6:03:35 PM GMT+5:30  yes                      NaN   \n",
      "11    2019/10/28 6:08:22 PM GMT+5:30  yes                      NaN   \n",
      "12    2019/10/28 6:14:49 PM GMT+5:30  yes                      NaN   \n",
      "13    2019/10/28 7:09:42 PM GMT+5:30   no  Due to a foreign travel   \n",
      "14    2019/10/28 9:35:48 PM GMT+5:30  yes                      NaN   \n",
      "15    2019/10/29 8:54:10 AM GMT+5:30  yes                      NaN   \n",
      "16   2019/10/29 10:14:10 AM GMT+5:30  yes                      NaN   \n",
      "17   2019/10/29 11:18:51 AM GMT+5:30  yes                      NaN   \n",
      "18   2019/10/29 12:18:00 PM GMT+5:30  yes                      NaN   \n",
      "19    2019/10/29 3:58:46 PM GMT+5:30  yes                      NaN   \n",
      "20    2019/10/29 4:01:45 PM GMT+5:30   no                     Why?   \n",
      "21    2019/10/29 4:02:56 PM GMT+5:30  yes                      NaN   \n",
      "22    2019/10/29 4:04:09 PM GMT+5:30  NaN                      NaN   \n",
      "23    2019/10/29 4:07:37 PM GMT+5:30  yes                      NaN   \n",
      "24    2019/10/29 4:07:46 PM GMT+5:30  yes                      NaN   \n",
      "25    2019/10/29 4:13:29 PM GMT+5:30  yes                      NaN   \n",
      "26    2019/10/29 5:31:58 PM GMT+5:30  yes                      NaN   \n",
      "27    2019/10/29 6:18:00 PM GMT+5:30   no                      NaN   \n",
      "28    2019/10/29 6:33:53 PM GMT+5:30  yes                      NaN   \n",
      "29    2019/10/29 6:41:59 PM GMT+5:30   no             Going abroad   \n",
      "..                               ...  ...                      ...   \n",
      "103   2019/11/04 5:38:18 AM GMT+5:30  yes                      NaN   \n",
      "104   2019/11/04 5:39:18 AM GMT+5:30  yes                      NaN   \n",
      "105   2019/11/04 5:40:12 AM GMT+5:30  yes                      NaN   \n",
      "106   2019/11/04 5:41:07 AM GMT+5:30  yes                      NaN   \n",
      "107   2019/11/04 5:42:16 AM GMT+5:30  yes                      NaN   \n",
      "108   2019/11/04 5:43:21 AM GMT+5:30  yes                      NaN   \n",
      "109   2019/11/04 5:44:25 AM GMT+5:30  yes                      NaN   \n",
      "110   2019/11/04 5:45:45 AM GMT+5:30  yes                      NaN   \n",
      "111   2019/11/04 5:47:02 AM GMT+5:30  yes                      NaN   \n",
      "112   2019/11/04 5:47:58 AM GMT+5:30  yes                      NaN   \n",
      "113   2019/11/04 5:49:13 AM GMT+5:30  yes                      NaN   \n",
      "114   2019/11/04 5:50:35 AM GMT+5:30  yes                      NaN   \n",
      "115   2019/11/04 5:51:41 AM GMT+5:30  yes                      NaN   \n",
      "116   2019/11/04 5:52:50 AM GMT+5:30  yes                      NaN   \n",
      "117   2019/11/04 5:53:59 AM GMT+5:30  yes                      NaN   \n",
      "118   2019/11/04 5:54:56 AM GMT+5:30  yes                      NaN   \n",
      "119   2019/11/04 5:56:32 AM GMT+5:30  yes                      NaN   \n",
      "120   2019/11/04 5:57:17 AM GMT+5:30  yes                      NaN   \n",
      "121   2019/11/04 5:58:18 AM GMT+5:30  yes                      NaN   \n",
      "122   2019/11/04 5:59:13 AM GMT+5:30  yes                      NaN   \n",
      "123   2019/11/04 6:00:21 AM GMT+5:30  yes                      NaN   \n",
      "124   2019/11/04 6:01:19 AM GMT+5:30  yes                      NaN   \n",
      "125   2019/11/04 6:02:19 AM GMT+5:30  yes                      NaN   \n",
      "126   2019/11/04 6:03:26 AM GMT+5:30  yes                      NaN   \n",
      "127   2019/11/04 6:04:28 AM GMT+5:30  yes                      NaN   \n",
      "128   2019/11/04 6:05:16 AM GMT+5:30  yes                      NaN   \n",
      "129   2019/11/04 6:06:30 AM GMT+5:30  yes                      NaN   \n",
      "130   2019/11/04 6:07:14 AM GMT+5:30  yes                      NaN   \n",
      "131   2019/11/04 6:08:34 AM GMT+5:30  yes                      NaN   \n",
      "132   2019/11/04 6:09:23 AM GMT+5:30  yes                      NaN   \n",
      "\n",
      "                     president                   issue    candidate  \\\n",
      "0       Mr Gotabaya Rajapaksha           Ethnic issues  Problematic   \n",
      "1       Mr Gotabaya Rajapaksha  Economical development  Problematic   \n",
      "2       Mr Gotabaya Rajapaksha              Corruption  Problematic   \n",
      "3       Mr Gotabaya Rajapaksha  Economical development  Problematic   \n",
      "4       Mr Gotabaya Rajapaksha  Economical development  Problematic   \n",
      "5       Mr Gotabaya Rajapaksha              Corruption  Problematic   \n",
      "6       Mr Gotabaya Rajapaksha                     NaN      Neutral   \n",
      "7       Mr Gotabaya Rajapaksha  Economical development  Problematic   \n",
      "8       Mr Gotabaya Rajapaksha  Economical development  Problematic   \n",
      "9       Mr Gotabaya Rajapaksha     Religious conflicts  Problematic   \n",
      "10      Mr Gotabaya Rajapaksha  Economical development  Problematic   \n",
      "11      Mr Gotabaya Rajapaksha  Economical development  Problematic   \n",
      "12      Mr Gotabaya Rajapaksha  Economical development  Problematic   \n",
      "13      Mr Gotabaya Rajapaksha           Ethnic issues  Problematic   \n",
      "14      Mr Gotabaya Rajapaksha  Economical development  Problematic   \n",
      "15        Mr. Sajith Premadasa  Economical development      Neutral   \n",
      "16      Mr Gotabaya Rajapaksha       Educational issue      Neutral   \n",
      "17            Mr. Anura Kumara              Corruption  Problematic   \n",
      "18      Mr Gotabaya Rajapaksha           Ethnic issues  Problematic   \n",
      "19      Mr Gotabaya Rajapaksha  Economical development  Problematic   \n",
      "20            Mr. Anura Kumara              Corruption  Problematic   \n",
      "21            Mr. Anura Kumara              Corruption      Neutral   \n",
      "22                         NaN                     NaN          NaN   \n",
      "23            Mr. Anura Kumara  Economical development  Problematic   \n",
      "24       do not like to reveal       Educational issue         Good   \n",
      "25            Mr. Anura Kumara  Economical development  Problematic   \n",
      "26        Mr. Sajith Premadasa  Economical development  Problematic   \n",
      "27                       other  Economical development         Good   \n",
      "28        Mr. Sajith Premadasa              Corruption      Neutral   \n",
      "29                 do not know              Corruption  Problematic   \n",
      "..                         ...                     ...          ...   \n",
      "103     Mr Gotabaya Rajapaksha  Economical development  Problematic   \n",
      "104     Mr Gotabaya Rajapaksha               Inflation  Problematic   \n",
      "105     Mr Gotabaya Rajapaksha           Ethnic issues         Good   \n",
      "106      do not like to reveal           Ethnic issues         Good   \n",
      "107     Mr Gotabaya Rajapaksha           Ethnic issues      Neutral   \n",
      "108                do not know     Religious conflicts  Problematic   \n",
      "109     Mr Gotabaya Rajapaksha           Ethnic issues      Neutral   \n",
      "110       Mr. Sajith Premadasa  Economical development         Good   \n",
      "111     Mr Gotabaya Rajapaksha  Economical development  Problematic   \n",
      "112     Mr Gotabaya Rajapaksha           Ethnic issues  Problematic   \n",
      "113       Mr. Sajith Premadasa           Ethnic issues         Good   \n",
      "114     Mr Gotabaya Rajapaksha  Economical development  Problematic   \n",
      "115     Mr Gotabaya Rajapaksha  Economical development         Good   \n",
      "116     Mr Gotabaya Rajapaksha  Economical development         Good   \n",
      "117     Mr Gotabaya Rajapaksha  Economical development  Problematic   \n",
      "118     Mr Gotabaya Rajapaksha  Economical development         Good   \n",
      "119     Mr Gotabaya Rajapaksha  Economical development         Good   \n",
      "120     Mr Gotabaya Rajapaksha           Ethnic issues  Problematic   \n",
      "121     Mr Gotabaya Rajapaksha  Economical development         Good   \n",
      "122     Mr Gotabaya Rajapaksha  Economical development         Good   \n",
      "123     Mr Gotabaya Rajapaksha  Economical development         Good   \n",
      "124      do not like to reveal  Economical development  Problematic   \n",
      "125  General Mahesh Senanayake              Corruption  Problematic   \n",
      "126      do not like to reveal              Corruption  Problematic   \n",
      "127     Mr Gotabaya Rajapaksha  Economical development      Neutral   \n",
      "128     Mr Gotabaya Rajapaksha       Educational issue  Problematic   \n",
      "129                do not know           Ethnic issues  Problematic   \n",
      "130  General Mahesh Senanayake  Economical development  Problematic   \n",
      "131      do not like to reveal           Ethnic issues  Problematic   \n",
      "132       Mr. Sajith Premadasa              Corruption  Problematic   \n",
      "\n",
      "                                               why_can  party       age  \\\n",
      "0                                                  NaN    Yes     30-45   \n",
      "1                                                  NaN     No     18-30   \n",
      "2                                                  NaN     No     18-30   \n",
      "3                                                  NaN     No     45-60   \n",
      "4                                                  NaN     No  above 60   \n",
      "5                                                  NaN    Yes     30-45   \n",
      "6                                                  NaN    Yes     30-45   \n",
      "7                                                  NaN    Yes     30-45   \n",
      "8                                                  NaN    Yes     45-60   \n",
      "9                              Too many idiotic voices    Yes     30-45   \n",
      "10                                                 NaN    Yes  above 60   \n",
      "11                                                 NaN     No  above 60   \n",
      "12                                                 NaN    Yes     30-45   \n",
      "13                               It isa waste of money    Yes     30-45   \n",
      "14                                                 NaN     No     30-45   \n",
      "15                                                 NaN     No     45-60   \n",
      "16                                                 NaN     No     18-30   \n",
      "17                          Shows how unstable we are     Yes     45-60   \n",
      "18                                                 NaN  Maybe     30-45   \n",
      "19                                                 NaN    Yes  above 60   \n",
      "20                              burden to the country     Yes     30-45   \n",
      "21                                                 NaN  Maybe     18-30   \n",
      "22                                                 NaN    NaN       NaN   \n",
      "23         The post of president has become a joke now    Yes     30-45   \n",
      "24   Thats indicate any one whos willing to lead co...  Maybe     30-45   \n",
      "25                                                 NaN    Yes     30-45   \n",
      "26                                                 NaN     No     30-45   \n",
      "27                                                 NaN    Yes     18-30   \n",
      "28                                                 NaN    Yes  above 60   \n",
      "29                                                 NaN     No     30-45   \n",
      "..                                                 ...    ...       ...   \n",
      "103                                                NaN     No     45-60   \n",
      "104                                                NaN     No     45-60   \n",
      "105                                                NaN     No     18-30   \n",
      "106                                                NaN     No     30-45   \n",
      "107                                                NaN     No     45-60   \n",
      "108                                                NaN    Yes     45-60   \n",
      "109                                                NaN     No     45-60   \n",
      "110                                                NaN  Maybe     45-60   \n",
      "111                                                NaN     No     18-30   \n",
      "112                                                NaN    Yes     30-45   \n",
      "113                                                NaN     No     30-45   \n",
      "114                                                NaN     No     18-30   \n",
      "115                                                NaN     No     18-30   \n",
      "116                                                NaN     No     30-45   \n",
      "117                                                NaN     No     18-30   \n",
      "118                                                NaN     No     18-30   \n",
      "119                                                NaN     No     18-30   \n",
      "120                                                NaN     No     30-45   \n",
      "121                                                NaN     No     18-30   \n",
      "122                                                NaN     No     18-30   \n",
      "123                                                NaN     No     18-30   \n",
      "124                                                NaN  Maybe     18-30   \n",
      "125                                                NaN    Yes     18-30   \n",
      "126                                                NaN    Yes     45-60   \n",
      "127                                                NaN    Yes     30-45   \n",
      "128                                                NaN     No     18-30   \n",
      "129                    people cannot vote for everyone  Maybe  above 60   \n",
      "130                                                NaN    Yes     18-30   \n",
      "131                                                NaN     No     18-30   \n",
      "132                                                NaN    Yes  above 60   \n",
      "\n",
      "     gender   religion                               edu  \\\n",
      "0      Male   Buddhist             degree (Bsc,Msc, Phd)   \n",
      "1    Female   Buddhist                         up to A/L   \n",
      "2    Female   Buddhist                         up to A/L   \n",
      "3      Male   Buddhist                         up to A/L   \n",
      "4    Female   Buddhist                         up to A/L   \n",
      "5    Female   Buddhist             degree (Bsc,Msc, Phd)   \n",
      "6    Female   Buddhist             degree (Bsc,Msc, Phd)   \n",
      "7      Male   Buddhist             degree (Bsc,Msc, Phd)   \n",
      "8      Male   Buddhist             degree (Bsc,Msc, Phd)   \n",
      "9      Male   Buddhist             degree (Bsc,Msc, Phd)   \n",
      "10     Male   Buddhist                         up to A/L   \n",
      "11   Female   Buddhist                         up to O/L   \n",
      "12   Female   Buddhist             degree (Bsc,Msc, Phd)   \n",
      "13   Female   Buddhist             degree (Bsc,Msc, Phd)   \n",
      "14     Male   Buddhist             degree (Bsc,Msc, Phd)   \n",
      "15     Male  Christian             degree (Bsc,Msc, Phd)   \n",
      "16   Female   Buddhist                         up to A/L   \n",
      "17     Male   Buddhist             degree (Bsc,Msc, Phd)   \n",
      "18   Female   Buddhist             degree (Bsc,Msc, Phd)   \n",
      "19   Female   Buddhist             degree (Bsc,Msc, Phd)   \n",
      "20     Male   Buddhist             degree (Bsc,Msc, Phd)   \n",
      "21     Male      Islam                         up to A/L   \n",
      "22      NaN        NaN                               NaN   \n",
      "23   Female   Buddhist             degree (Bsc,Msc, Phd)   \n",
      "24     Male   Buddhist             degree (Bsc,Msc, Phd)   \n",
      "25   Female   Buddhist             degree (Bsc,Msc, Phd)   \n",
      "26     Male   Buddhist             degree (Bsc,Msc, Phd)   \n",
      "27   Female   Buddhist             degree (Bsc,Msc, Phd)   \n",
      "28     Male  Christian             degree (Bsc,Msc, Phd)   \n",
      "29     Male   Buddhist             degree (Bsc,Msc, Phd)   \n",
      "..      ...        ...                               ...   \n",
      "103    Male   Buddhist                         up to O/L   \n",
      "104  Female   Buddhist                         up to A/L   \n",
      "105  Female   Buddhist                         up to A/L   \n",
      "106  Female   Buddhist                         up to A/L   \n",
      "107  Female   Buddhist                         up to A/L   \n",
      "108    Male   Buddhist             degree (Bsc,Msc, Phd)   \n",
      "109    Male   Buddhist             degree (Bsc,Msc, Phd)   \n",
      "110    Male      Hindu                         up to A/L   \n",
      "111  Female   Buddhist                         up to A/L   \n",
      "112    Male   Buddhist             degree (Bsc,Msc, Phd)   \n",
      "113    Male   Buddhist                         up to O/L   \n",
      "114  Female   Buddhist                         up to A/L   \n",
      "115    Male   Buddhist  6 to 11. but did not sit for O/L   \n",
      "116    Male   Buddhist                         up to O/L   \n",
      "117    Male   Buddhist                         up to A/L   \n",
      "118    Male   Buddhist                         up to O/L   \n",
      "119    Male   Buddhist                         up to O/L   \n",
      "120    Male   Buddhist                         up to A/L   \n",
      "121  Female   Buddhist                         up to O/L   \n",
      "122  Female   Buddhist                         up to A/L   \n",
      "123  Female   Buddhist                         up to A/L   \n",
      "124  Female   Buddhist                         up to A/L   \n",
      "125    Male   Buddhist                         up to A/L   \n",
      "126    Male   Buddhist                         up to A/L   \n",
      "127  Female   Buddhist             degree (Bsc,Msc, Phd)   \n",
      "128    Male   Buddhist                         up to A/L   \n",
      "129  Female   Buddhist                         up to A/L   \n",
      "130  Female   Buddhist             degree (Bsc,Msc, Phd)   \n",
      "131  Female   Buddhist             degree (Bsc,Msc, Phd)   \n",
      "132    Male   Buddhist                         up to A/L   \n",
      "\n",
      "                                  occu      district           region  \n",
      "0                          Vet surgeon         Kandy        Udunuwara  \n",
      "1                                  NaN         kandy          gampola  \n",
      "2                                  NaN         Kandy           Kandy   \n",
      "3                          Contractor          Kandy            Kandy  \n",
      "4                                  NaN         Kandy            Kandy  \n",
      "5                             lecturer         kandy            kandy  \n",
      "6                             Lecturer         Kandy            Kandy  \n",
      "7                                  NaN           NaN              NaN  \n",
      "8                   University Teacher       Colombo          Kesbewa  \n",
      "9                                   Mo         Kandy           Kandy   \n",
      "10                Medical practitioner         Kandy        Udunuwara  \n",
      "11                           Pentioner         Kandy        Udunuwara  \n",
      "12        Medical practitioner M B B S         Kandy            Kandy  \n",
      "13                            Lecturer    Rathnapura            Kandy  \n",
      "14                           Academic          Kandy        Teldeniya  \n",
      "15                           Professor         Kandy              NaN  \n",
      "16                                 NaN           NaN              NaN  \n",
      "17                 University teacher          Kandy     Senkadagala   \n",
      "18                    Senior Executive        Kandy            Kandy   \n",
      "19                           Professor         Kandy            Kandy  \n",
      "20                                 NaN           NaN              NaN  \n",
      "21                             Teacher  Anuradhapura     Anuradhapura  \n",
      "22                                 NaN           NaN              NaN  \n",
      "23                                 NaN       Gampaha          Gampaha  \n",
      "24                            Lecturer       Badulla          Badulla  \n",
      "25                                 NaN           NaN              NaN  \n",
      "26                    Senior lecturer         Galle            Galle   \n",
      "27                            Lecturer        Matara           Matara  \n",
      "28                     Senior lecturer         Kandy          Gatambe  \n",
      "29                            Lecturer           NaN              NaN  \n",
      "..                                 ...           ...              ...  \n",
      "103                           Business         Kandy       Udu nuwara  \n",
      "104                          Insurance         Kandy       Udu nuwara  \n",
      "105                           Business         Kandy            Kandy  \n",
      "106                           Business         Kandy            Kandy  \n",
      "107                           Business         Kandy            Kandy  \n",
      "108                           Business         Kandy            Kandy  \n",
      "109                           Business         Kandy            Kandy  \n",
      "110                           business         Kandy            Kandy  \n",
      "111                     private sector         kandy       udu nuwara  \n",
      "112                           business         kandy            kandy  \n",
      "113                           business         kandy       udu nuwara  \n",
      "114  private sector Accounts secretary         Kandy       udu nuwara  \n",
      "115                             Driver         Kandy       Udu nuwara  \n",
      "116                             Driver         Kandy       Udu nuwara  \n",
      "117                                NaN         kandy  gangawatakorale  \n",
      "118                                NaN         Kandy     Nawalapitiya  \n",
      "119                                NaN         kandy       udu nuwara  \n",
      "120                                NaN           NaN              NaN  \n",
      "121               Assistant Accountant         Kandy       udu nuwara  \n",
      "122                         Accountant         Kandy       Udu nuwara  \n",
      "123                         Accountant         Kandy       Udu nuwara  \n",
      "124                                 no         kandy      senkadagala  \n",
      "125                              Baker         Kandy      senkadagala  \n",
      "126                            Manager         Kandy      Senkadagala  \n",
      "127                   Accounts manager         kandy      senkadagala  \n",
      "128                                 no         kandy      senkadagala  \n",
      "129                                 no         kandy      senkadagala  \n",
      "130                               Bank         kandy      senkadagala  \n",
      "131                                 no         kandy      senkadagala  \n",
      "132                            retired         Kandy      senkadagala  \n",
      "\n",
      "[133 rows x 15 columns]\n"
     ]
    }
   ],
   "source": [
    "print(dataset)"
   ]
  },
  {
   "cell_type": "code",
   "execution_count": 18,
   "metadata": {},
   "outputs": [],
   "source": [
    " # Declare the columns names"
   ]
  },
  {
   "cell_type": "code",
   "execution_count": null,
   "metadata": {},
   "outputs": [],
   "source": []
  },
  {
   "cell_type": "code",
   "execution_count": null,
   "metadata": {},
   "outputs": [],
   "source": [
    "\n"
   ]
  },
  {
   "cell_type": "code",
   "execution_count": 23,
   "metadata": {},
   "outputs": [],
   "source": [
    "cols = ['issue']\n",
    "i=dataset.loc[dataset.age =='18-30', cols]"
   ]
  },
  {
   "cell_type": "code",
   "execution_count": null,
   "metadata": {},
   "outputs": [],
   "source": []
  },
  {
   "cell_type": "code",
   "execution_count": 30,
   "metadata": {},
   "outputs": [],
   "source": [
    "c=i.issue.value_counts()"
   ]
  },
  {
   "cell_type": "code",
   "execution_count": 31,
   "metadata": {},
   "outputs": [
    {
     "data": {
      "text/plain": [
       "Economical development    26\n",
       "Ethnic issues              6\n",
       "Corruption                 4\n",
       "Educational issue          2\n",
       "Religious conflicts        2\n",
       "Inflation                  2\n",
       "Agricultural issue         1\n",
       "Unemployment               1\n",
       "Name: issue, dtype: int64"
      ]
     },
     "execution_count": 31,
     "metadata": {},
     "output_type": "execute_result"
    }
   ],
   "source": [
    "c"
   ]
  },
  {
   "cell_type": "code",
   "execution_count": 27,
   "metadata": {},
   "outputs": [],
   "source": [
    "import matplotlib.pyplot as plotter"
   ]
  },
  {
   "cell_type": "code",
   "execution_count": 28,
   "metadata": {},
   "outputs": [],
   "source": [
    "pieLabels= 'Economics', 'Ethnic', 'Corruption', 'Educational', 'Religious', 'Inflation','agricultural','unemployment'"
   ]
  },
  {
   "cell_type": "code",
   "execution_count": 38,
   "metadata": {},
   "outputs": [
    {
     "data": {
      "image/png": "[encoded data removed]",
      "text/plain": [
       "<Figure size 432x288 with 1 Axes>"
      ]
     },
     "metadata": {},
     "output_type": "display_data"
    }
   ],
   "source": [
    "figureObject, axesObject = plotter.subplots()\n",
    "axesObject.pie(c,\n",
    "\n",
    "        labels=pieLabels,\n",
    "\n",
    "        autopct='%1.2f',\n",
    "\n",
    "        startangle=90)\n",
    "axesObject.axis('equal')\n",
    "plotter.show()"
   ]
  },
  {
   "cell_type": "code",
   "execution_count": 41,
   "metadata": {},
   "outputs": [],
   "source": [
    "\n",
    "cols = ['issue']\n",
    "i=dataset.loc[dataset.age =='30-45', cols]\n",
    "c=i.issue.value_counts()"
   ]
  },
  {
   "cell_type": "code",
   "execution_count": 44,
   "metadata": {},
   "outputs": [],
   "source": [
    "\n",
    "import matplotlib.pyplot as plotter\n",
    "pieLabels= 'Economics', 'Corruption', 'Ethnic' ,'Educational', 'Religious', 'Inflation','unemployment'\n"
   ]
  },
  {
   "cell_type": "code",
   "execution_count": 45,
   "metadata": {},
   "outputs": [
    {
     "data": {
      "text/plain": [
       "Economical development    21\n",
       "Corruption                11\n",
       "Ethnic issues              9\n",
       "Educational issue          2\n",
       "Religious conflicts        2\n",
       "Inflation                  2\n",
       "Unemployment               1\n",
       "Name: issue, dtype: int64"
      ]
     },
     "execution_count": 45,
     "metadata": {},
     "output_type": "execute_result"
    }
   ],
   "source": [
    "c"
   ]
  },
  {
   "cell_type": "code",
   "execution_count": 46,
   "metadata": {},
   "outputs": [
    {
     "data": {
      "image/png": "[encoded data removed]",
      "text/plain": [
       "<Figure size 432x288 with 1 Axes>"
      ]
     },
     "metadata": {},
     "output_type": "display_data"
    }
   ],
   "source": [
    "figureObject, axesObject = plotter.subplots()\n",
    "axesObject.pie(c,\n",
    "\n",
    "        labels=pieLabels,\n",
    "\n",
    "        autopct='%1.2f',\n",
    "\n",
    "        startangle=90)\n",
    "axesObject.axis('equal')\n",
    "plotter.show()"
   ]
  },
  {
   "cell_type": "code",
   "execution_count": 47,
   "metadata": {},
   "outputs": [],
   "source": [
    "cols = ['issue']\n",
    "i=dataset.loc[dataset.age =='45-60', cols]\n",
    "c=i.issue.value_counts()"
   ]
  },
  {
   "cell_type": "code",
   "execution_count": 48,
   "metadata": {},
   "outputs": [
    {
     "data": {
      "text/plain": [
       "Economical development    11\n",
       "Corruption                 9\n",
       "Ethnic issues              2\n",
       "Inflation                  2\n",
       "Religious conflicts        1\n",
       "Name: issue, dtype: int64"
      ]
     },
     "execution_count": 48,
     "metadata": {},
     "output_type": "execute_result"
    }
   ],
   "source": [
    "c"
   ]
  },
  {
   "cell_type": "code",
   "execution_count": 49,
   "metadata": {},
   "outputs": [],
   "source": [
    "import matplotlib.pyplot as plotter\n",
    "pieLabels= 'Economics', 'Corruption', 'Ethnic' ,'Inflation', 'Religious'\n",
    "\n"
   ]
  },
  {
   "cell_type": "code",
   "execution_count": 50,
   "metadata": {},
   "outputs": [
    {
     "data": {
      "image/png": "[encoded data removed]",
      "text/plain": [
       "<Figure size 432x288 with 1 Axes>"
      ]
     },
     "metadata": {},
     "output_type": "display_data"
    }
   ],
   "source": [
    "figureObject, axesObject = plotter.subplots()\n",
    "axesObject.pie(c,\n",
    "\n",
    "        labels=pieLabels,\n",
    "\n",
    "        autopct='%1.2f',\n",
    "\n",
    "        startangle=90)\n",
    "axesObject.axis('equal')\n",
    "plotter.show()"
   ]
  },
  {
   "cell_type": "code",
   "execution_count": 51,
   "metadata": {},
   "outputs": [],
   "source": [
    "cols = ['issue']\n",
    "i=dataset.loc[dataset.age =='above 60', cols]\n",
    "c=i.issue.value_counts()"
   ]
  },
  {
   "cell_type": "code",
   "execution_count": 52,
   "metadata": {},
   "outputs": [
    {
     "data": {
      "text/plain": [
       "Economical development    8\n",
       "Corruption                2\n",
       "Unemployment              2\n",
       "Ethnic issues             1\n",
       "Religious conflicts       1\n",
       "Name: issue, dtype: int64"
      ]
     },
     "execution_count": 52,
     "metadata": {},
     "output_type": "execute_result"
    }
   ],
   "source": [
    "c"
   ]
  },
  {
   "cell_type": "code",
   "execution_count": 53,
   "metadata": {},
   "outputs": [],
   "source": [
    "import matplotlib.pyplot as plotter\n",
    "pieLabels= 'Economics', 'Corruption', 'unemployment' , 'Ethnic' , 'Religious'\n",
    "\n",
    "\n"
   ]
  },
  {
   "cell_type": "code",
   "execution_count": 54,
   "metadata": {},
   "outputs": [
    {
     "data": {
      "image/png": "[encoded data removed]",
      "text/plain": [
       "<Figure size 432x288 with 1 Axes>"
      ]
     },
     "metadata": {},
     "output_type": "display_data"
    }
   ],
   "source": [
    "figureObject, axesObject = plotter.subplots()\n",
    "axesObject.pie(c,\n",
    "\n",
    "        labels=pieLabels,\n",
    "\n",
    "        autopct='%1.2f',\n",
    "\n",
    "        startangle=90)\n",
    "axesObject.axis('equal')\n",
    "plotter.show()"
   ]
  },
  {
   "cell_type": "code",
   "execution_count": 55,
   "metadata": {},
   "outputs": [],
   "source": [
    "cols = ['issue']\n",
    "i=dataset.loc[dataset.gender =='Male', cols]"
   ]
  },
  {
   "cell_type": "code",
   "execution_count": 57,
   "metadata": {},
   "outputs": [],
   "source": [
    "c=i.issue.value_counts()"
   ]
  },
  {
   "cell_type": "code",
   "execution_count": 58,
   "metadata": {},
   "outputs": [
    {
     "data": {
      "text/plain": [
       "Economical development    35\n",
       "Corruption                18\n",
       "Ethnic issues             10\n",
       "Religious conflicts        5\n",
       "Educational issue          3\n",
       "Inflation                  3\n",
       "Unemployment               2\n",
       "Agricultural issue         1\n",
       "Name: issue, dtype: int64"
      ]
     },
     "execution_count": 58,
     "metadata": {},
     "output_type": "execute_result"
    }
   ],
   "source": [
    "c"
   ]
  },
  {
   "cell_type": "code",
   "execution_count": 59,
   "metadata": {},
   "outputs": [],
   "source": [
    "import matplotlib.pyplot as plotter\n",
    "pieLabels= 'Economics', 'Corruption', 'Ethnic' , 'Religious' ,'Education' ,'Inflation' ,'Unemployment' ,'Agricultural'"
   ]
  },
  {
   "cell_type": "code",
   "execution_count": 60,
   "metadata": {},
   "outputs": [
    {
     "data": {
      "image/png": "[encoded data removed]",
      "text/plain": [
       "<Figure size 432x288 with 1 Axes>"
      ]
     },
     "metadata": {},
     "output_type": "display_data"
    }
   ],
   "source": [
    "figureObject, axesObject = plotter.subplots()\n",
    "axesObject.pie(c,\n",
    "\n",
    "        labels=pieLabels,\n",
    "\n",
    "        autopct='%1.2f',\n",
    "\n",
    "        startangle=90)\n",
    "axesObject.axis('equal')\n",
    "plotter.show()"
   ]
  },
  {
   "cell_type": "code",
   "execution_count": 61,
   "metadata": {},
   "outputs": [],
   "source": [
    "cols = ['issue']\n",
    "i=dataset.loc[dataset.gender =='Female', cols]\n",
    "c=i.issue.value_counts()"
   ]
  },
  {
   "cell_type": "code",
   "execution_count": 62,
   "metadata": {},
   "outputs": [
    {
     "data": {
      "text/plain": [
       "Economical development    31\n",
       "Ethnic issues              8\n",
       "Corruption                 8\n",
       "Inflation                  3\n",
       "Unemployment               2\n",
       "Educational issue          1\n",
       "Religious conflicts        1\n",
       "Name: issue, dtype: int64"
      ]
     },
     "execution_count": 62,
     "metadata": {},
     "output_type": "execute_result"
    }
   ],
   "source": [
    "c"
   ]
  },
  {
   "cell_type": "code",
   "execution_count": 65,
   "metadata": {},
   "outputs": [],
   "source": [
    "import matplotlib.pyplot as plotter\n",
    "pieLabels= 'Economics', 'Ethnic' , 'Corruption' , 'Inflation' , 'Unemployment' ,'Education' , 'Religious'"
   ]
  },
  {
   "cell_type": "code",
   "execution_count": 66,
   "metadata": {},
   "outputs": [
    {
     "data": {
      "image/png": "[encoded data removed]",
      "text/plain": [
       "<Figure size 432x288 with 1 Axes>"
      ]
     },
     "metadata": {},
     "output_type": "display_data"
    }
   ],
   "source": [
    "figureObject, axesObject = plotter.subplots()\n",
    "axesObject.pie(c,\n",
    "\n",
    "        labels=pieLabels,\n",
    "\n",
    "        autopct='%1.2f',\n",
    "\n",
    "        startangle=90)\n",
    "axesObject.axis('equal')\n",
    "plotter.show()"
   ]
  },
  {
   "cell_type": "code",
   "execution_count": 67,
   "metadata": {},
   "outputs": [],
   "source": [
    "cols = ['issue']\n",
    "i=dataset.loc[dataset.president =='Mr Gotabaya Rajapaksha', cols]"
   ]
  },
  {
   "cell_type": "code",
   "execution_count": 70,
   "metadata": {},
   "outputs": [],
   "source": [
    "c=i.issue.value_counts()"
   ]
  },
  {
   "cell_type": "code",
   "execution_count": 71,
   "metadata": {},
   "outputs": [
    {
     "data": {
      "text/plain": [
       "Economical development    41\n",
       "Ethnic issues             12\n",
       "Corruption                10\n",
       "Religious conflicts        4\n",
       "Inflation                  4\n",
       "Educational issue          3\n",
       "Unemployment               2\n",
       "Agricultural issue         1\n",
       "Name: issue, dtype: int64"
      ]
     },
     "execution_count": 71,
     "metadata": {},
     "output_type": "execute_result"
    }
   ],
   "source": [
    "c"
   ]
  },
  {
   "cell_type": "code",
   "execution_count": 72,
   "metadata": {},
   "outputs": [],
   "source": [
    "import matplotlib.pyplot as plotter\n",
    "pieLabels= 'Economics', 'Ethnic' , 'Corruption' ,'Religious', 'Inflation' ,'Education', 'Unemployment' ,'agricultural' , "
   ]
  },
  {
   "cell_type": "code",
   "execution_count": 73,
   "metadata": {},
   "outputs": [
    {
     "data": {
      "image/png": "[encoded data removed]",
      "text/plain": [
       "<Figure size 432x288 with 1 Axes>"
      ]
     },
     "metadata": {},
     "output_type": "display_data"
    }
   ],
   "source": [
    "figureObject, axesObject = plotter.subplots()\n",
    "axesObject.pie(c,\n",
    "\n",
    "        labels=pieLabels,\n",
    "\n",
    "        autopct='%1.2f',\n",
    "\n",
    "        startangle=90)\n",
    "axesObject.axis('equal')\n",
    "plotter.show()"
   ]
  },
  {
   "cell_type": "code",
   "execution_count": 74,
   "metadata": {},
   "outputs": [],
   "source": [
    "cols = ['issue']\n",
    "i=dataset.loc[dataset.president =='Mr. Sajith Premadasa', cols]"
   ]
  },
  {
   "cell_type": "code",
   "execution_count": 75,
   "metadata": {},
   "outputs": [],
   "source": [
    "c=i.issue.value_counts()"
   ]
  },
  {
   "cell_type": "code",
   "execution_count": 76,
   "metadata": {},
   "outputs": [
    {
     "data": {
      "text/plain": [
       "Economical development    13\n",
       "Corruption                 4\n",
       "Unemployment               1\n",
       "Religious conflicts        1\n",
       "Ethnic issues              1\n",
       "Inflation                  1\n",
       "Name: issue, dtype: int64"
      ]
     },
     "execution_count": 76,
     "metadata": {},
     "output_type": "execute_result"
    }
   ],
   "source": [
    "c"
   ]
  },
  {
   "cell_type": "code",
   "execution_count": 77,
   "metadata": {},
   "outputs": [],
   "source": [
    "import matplotlib.pyplot as plotter\n",
    "pieLabels= 'Economics' , 'Corruption' ,'Unemployment','Religious', 'Ethnic','Inflation' "
   ]
  },
  {
   "cell_type": "code",
   "execution_count": 78,
   "metadata": {},
   "outputs": [
    {
     "data": {
      "image/png": "[encoded data removed]",
      "text/plain": [
       "<Figure size 432x288 with 1 Axes>"
      ]
     },
     "metadata": {},
     "output_type": "display_data"
    }
   ],
   "source": [
    "figureObject, axesObject = plotter.subplots()\n",
    "axesObject.pie(c,\n",
    "\n",
    "        labels=pieLabels,\n",
    "\n",
    "        autopct='%1.2f',\n",
    "\n",
    "        startangle=90)\n",
    "axesObject.axis('equal')\n",
    "plotter.show()"
   ]
  },
  {
   "cell_type": "code",
   "execution_count": 79,
   "metadata": {},
   "outputs": [],
   "source": [
    "cols = ['candidate']\n",
    "i=dataset.loc[dataset.edu =='degree (Bsc,Msc, Phd)', cols]"
   ]
  },
  {
   "cell_type": "code",
   "execution_count": 82,
   "metadata": {},
   "outputs": [],
   "source": [
    "c=i.candidate.value_counts()"
   ]
  },
  {
   "cell_type": "code",
   "execution_count": 83,
   "metadata": {},
   "outputs": [
    {
     "data": {
      "text/plain": [
       "Problematic    46\n",
       "Neutral        12\n",
       "Good            6\n",
       "Name: candidate, dtype: int64"
      ]
     },
     "execution_count": 83,
     "metadata": {},
     "output_type": "execute_result"
    }
   ],
   "source": [
    "c"
   ]
  },
  {
   "cell_type": "code",
   "execution_count": 84,
   "metadata": {},
   "outputs": [],
   "source": [
    "import matplotlib.pyplot as plotter\n",
    "pieLabels= 'Problemetic' , 'Neutral' ,'Good'"
   ]
  },
  {
   "cell_type": "code",
   "execution_count": null,
   "metadata": {},
   "outputs": [],
   "source": []
  },
  {
   "cell_type": "code",
   "execution_count": 85,
   "metadata": {},
   "outputs": [
    {
     "data": {
      "image/png": "[encoded data removed]",
      "text/plain": [
       "<Figure size 432x288 with 1 Axes>"
      ]
     },
     "metadata": {},
     "output_type": "display_data"
    }
   ],
   "source": [
    "figureObject, axesObject = plotter.subplots()\n",
    "axesObject.pie(c,\n",
    "\n",
    "        labels=pieLabels,\n",
    "\n",
    "        autopct='%1.2f',\n",
    "\n",
    "        startangle=90)\n",
    "axesObject.axis('equal')\n",
    "plotter.show()"
   ]
  },
  {
   "cell_type": "code",
   "execution_count": 86,
   "metadata": {},
   "outputs": [
    {
     "data": {
      "text/plain": [
       "Problematic    35\n",
       "Good           12\n",
       "Neutral         6\n",
       "Name: candidate, dtype: int64"
      ]
     },
     "execution_count": 86,
     "metadata": {},
     "output_type": "execute_result"
    }
   ],
   "source": [
    "cols = ['candidate']\n",
    "i=dataset.loc[dataset.edu =='up to A/L', cols]\n",
    "c=i.candidate.value_counts()\n",
    "c"
   ]
  },
  {
   "cell_type": "code",
   "execution_count": 87,
   "metadata": {},
   "outputs": [
    {
     "data": {
      "image/png": "[encoded data removed]",
      "text/plain": [
       "<Figure size 432x288 with 1 Axes>"
      ]
     },
     "metadata": {},
     "output_type": "display_data"
    }
   ],
   "source": [
    "import matplotlib.pyplot as plotter\n",
    "pieLabels= 'Problemetic' , 'Neutral' ,'Good'\n",
    "figureObject, axesObject = plotter.subplots()\n",
    "axesObject.pie(c,\n",
    "\n",
    "        labels=pieLabels,\n",
    "\n",
    "        autopct='%1.2f',\n",
    "\n",
    "        startangle=90)\n",
    "axesObject.axis('equal')\n",
    "plotter.show()"
   ]
  },
  {
   "cell_type": "code",
   "execution_count": 88,
   "metadata": {},
   "outputs": [
    {
     "data": {
      "text/plain": [
       "Good           6\n",
       "Problematic    4\n",
       "Name: candidate, dtype: int64"
      ]
     },
     "execution_count": 88,
     "metadata": {},
     "output_type": "execute_result"
    }
   ],
   "source": [
    "cols = ['candidate']\n",
    "i=dataset.loc[dataset.edu =='up to O/L', cols]\n",
    "c=i.candidate.value_counts()\n",
    "c"
   ]
  },
  {
   "cell_type": "code",
   "execution_count": 90,
   "metadata": {},
   "outputs": [
    {
     "data": {
      "image/png": "[encoded data removed]",
      "text/plain": [
       "<Figure size 432x288 with 1 Axes>"
      ]
     },
     "metadata": {},
     "output_type": "display_data"
    }
   ],
   "source": [
    "import matplotlib.pyplot as plotter\n",
    "pieLabels= 'Good','Problematic'\n",
    "figureObject, axesObject = plotter.subplots()\n",
    "axesObject.pie(c,\n",
    "\n",
    "        labels=pieLabels,\n",
    "\n",
    "        autopct='%1.2f',\n",
    "\n",
    "        startangle=90)\n",
    "axesObject.axis('equal')\n",
    "plotter.show()"
   ]
  },
  {
   "cell_type": "code",
   "execution_count": 91,
   "metadata": {},
   "outputs": [
    {
     "data": {
      "text/plain": [
       "Problematic    3\n",
       "Good           1\n",
       "Name: candidate, dtype: int64"
      ]
     },
     "execution_count": 91,
     "metadata": {},
     "output_type": "execute_result"
    }
   ],
   "source": [
    "cols = ['candidate']\n",
    "i=dataset.loc[dataset.edu =='6 to 11. but did not sit for O/L', cols]\n",
    "c=i.candidate.value_counts()\n",
    "c"
   ]
  },
  {
   "cell_type": "code",
   "execution_count": 93,
   "metadata": {},
   "outputs": [
    {
     "data": {
      "image/png": "[encoded data removed]",
      "text/plain": [
       "<Figure size 432x288 with 1 Axes>"
      ]
     },
     "metadata": {},
     "output_type": "display_data"
    }
   ],
   "source": [
    "import matplotlib.pyplot as plotter\n",
    "pieLabels= 'Problematic','Good'\n",
    "figureObject, axesObject = plotter.subplots()\n",
    "axesObject.pie(c,\n",
    "\n",
    "        labels=pieLabels,\n",
    "\n",
    "        autopct='%1.2f',\n",
    "\n",
    "        startangle=90)\n",
    "axesObject.axis('equal')\n",
    "plotter.show()"
   ]
  },
  {
   "cell_type": "code",
   "execution_count": 94,
   "metadata": {},
   "outputs": [
    {
     "data": {
      "text/plain": [
       "Problematic    1\n",
       "Name: candidate, dtype: int64"
      ]
     },
     "execution_count": 94,
     "metadata": {},
     "output_type": "execute_result"
    }
   ],
   "source": [
    "cols = ['candidate']\n",
    "i=dataset.loc[dataset.edu =='up to grade 5', cols]\n",
    "c=i.candidate.value_counts()\n",
    "c"
   ]
  },
  {
   "cell_type": "code",
   "execution_count": 96,
   "metadata": {},
   "outputs": [
    {
     "data": {
      "text/plain": [
       "Yes      34\n",
       "No       22\n",
       "Maybe     8\n",
       "Name: party, dtype: int64"
      ]
     },
     "execution_count": 96,
     "metadata": {},
     "output_type": "execute_result"
    }
   ],
   "source": [
    "cols = ['party']\n",
    "i=dataset.loc[dataset.edu =='degree (Bsc,Msc, Phd)', cols]\n",
    "c=i.party.value_counts()\n",
    "c"
   ]
  },
  {
   "cell_type": "code",
   "execution_count": 97,
   "metadata": {},
   "outputs": [
    {
     "data": {
      "image/png": "[encoded data removed]",
      "text/plain": [
       "<Figure size 432x288 with 1 Axes>"
      ]
     },
     "metadata": {},
     "output_type": "display_data"
    }
   ],
   "source": [
    "import matplotlib.pyplot as plotter\n",
    "pieLabels= 'Yes','No','Maybe'\n",
    "figureObject, axesObject = plotter.subplots()\n",
    "axesObject.pie(c,\n",
    "\n",
    "        labels=pieLabels,\n",
    "\n",
    "        autopct='%1.2f',\n",
    "\n",
    "        startangle=90)\n",
    "axesObject.axis('equal')\n",
    "plotter.show()"
   ]
  },
  {
   "cell_type": "code",
   "execution_count": 98,
   "metadata": {},
   "outputs": [
    {
     "data": {
      "text/plain": [
       "No       33\n",
       "Yes      11\n",
       "Maybe     9\n",
       "Name: party, dtype: int64"
      ]
     },
     "execution_count": 98,
     "metadata": {},
     "output_type": "execute_result"
    }
   ],
   "source": [
    "cols = ['party']\n",
    "i=dataset.loc[dataset.edu =='up to A/L', cols]\n",
    "c=i.party.value_counts()\n",
    "c"
   ]
  },
  {
   "cell_type": "code",
   "execution_count": 99,
   "metadata": {},
   "outputs": [
    {
     "data": {
      "image/png": "[encoded data removed]",
      "text/plain": [
       "<Figure size 432x288 with 1 Axes>"
      ]
     },
     "metadata": {},
     "output_type": "display_data"
    }
   ],
   "source": [
    "import matplotlib.pyplot as plotter\n",
    "pieLabels= 'Yes','No','Maybe'\n",
    "figureObject, axesObject = plotter.subplots()\n",
    "axesObject.pie(c,\n",
    "\n",
    "        labels=pieLabels,\n",
    "\n",
    "        autopct='%1.2f',\n",
    "\n",
    "        startangle=90)\n",
    "axesObject.axis('equal')\n",
    "plotter.show()"
   ]
  },
  {
   "cell_type": "code",
   "execution_count": 100,
   "metadata": {},
   "outputs": [
    {
     "data": {
      "text/plain": [
       "No     9\n",
       "Yes    1\n",
       "Name: party, dtype: int64"
      ]
     },
     "execution_count": 100,
     "metadata": {},
     "output_type": "execute_result"
    }
   ],
   "source": [
    "cols = ['party']\n",
    "i=dataset.loc[dataset.edu =='up to O/L', cols]\n",
    "c=i.party.value_counts()\n",
    "c"
   ]
  },
  {
   "cell_type": "code",
   "execution_count": 102,
   "metadata": {},
   "outputs": [
    {
     "data": {
      "image/png": "[encoded data removed]",
      "text/plain": [
       "<Figure size 432x288 with 1 Axes>"
      ]
     },
     "metadata": {},
     "output_type": "display_data"
    }
   ],
   "source": [
    "import matplotlib.pyplot as plotter\n",
    "pieLabels= 'No','Yes'\n",
    "figureObject, axesObject = plotter.subplots()\n",
    "axesObject.pie(c,\n",
    "\n",
    "        labels=pieLabels,\n",
    "\n",
    "        autopct='%1.2f',\n",
    "\n",
    "        startangle=90)\n",
    "axesObject.axis('equal')\n",
    "plotter.show()"
   ]
  },
  {
   "cell_type": "code",
   "execution_count": null,
   "metadata": {},
   "outputs": [],
   "source": []
  }
 ],
 "metadata": {
  "kernelspec": {
   "display_name": "Python 3",
   "language": "python",
   "name": "python3"
  },
  "language_info": {
   "codemirror_mode": {
    "name": "ipython",
    "version": 3
   },
   "file_extension": ".py",
   "mimetype": "text/x-python",
   "name": "python",
   "nbconvert_exporter": "python",
   "pygments_lexer": "ipython3",
   "version": "3.7.1"
  }
 },
 "nbformat": 4,
 "nbformat_minor": 2
}
